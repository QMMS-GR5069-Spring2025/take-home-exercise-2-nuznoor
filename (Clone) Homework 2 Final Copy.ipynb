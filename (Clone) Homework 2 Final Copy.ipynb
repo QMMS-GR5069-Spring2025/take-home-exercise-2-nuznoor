{
 "cells": [
  {
   "cell_type": "markdown",
   "metadata": {
    "application/vnd.databricks.v1+cell": {
     "cellMetadata": {
      "byteLimit": 2048000,
      "rowLimit": 10000
     },
     "inputWidgets": {},
     "nuid": "9e9f64fe-59bd-446f-a1ed-71fe379b3412",
     "showTitle": false,
     "tableResultSettingsMap": {},
     "title": ""
    }
   },
   "source": [
    "#### Importing all Relevant Libraries"
   ]
  },
  {
   "cell_type": "code",
   "execution_count": 0,
   "metadata": {
    "application/vnd.databricks.v1+cell": {
     "cellMetadata": {
      "byteLimit": 2048000,
      "rowLimit": 10000
     },
     "inputWidgets": {},
     "nuid": "2a7999e6-489b-4866-a53b-465575f52e7a",
     "showTitle": false,
     "tableResultSettingsMap": {},
     "title": ""
    }
   },
   "outputs": [],
   "source": [
    "import pandas as pd\n",
    "import os\n",
    "import matplotlib.pyplot as plt\n",
    "import seaborn as sns"
   ]
  },
  {
   "cell_type": "markdown",
   "metadata": {
    "application/vnd.databricks.v1+cell": {
     "cellMetadata": {
      "byteLimit": 2048000,
      "rowLimit": 10000
     },
     "inputWidgets": {},
     "nuid": "9165ea00-28ce-40d8-a91d-c7941af0ec8d",
     "showTitle": false,
     "tableResultSettingsMap": {},
     "title": ""
    }
   },
   "source": [
    "#### 1. [10 pts] What was the average time each driver spent at the pit stop for each race?"
   ]
  },
  {
   "cell_type": "code",
   "execution_count": 0,
   "metadata": {
    "application/vnd.databricks.v1+cell": {
     "cellMetadata": {
      "byteLimit": 2048000,
      "rowLimit": 10000
     },
     "inputWidgets": {},
     "nuid": "2375dc6e-d206-4e35-a26e-9a0bdfff41a9",
     "showTitle": false,
     "tableResultSettingsMap": {},
     "title": ""
    }
   },
   "outputs": [],
   "source": [
    "# Importing relevant data and converting to pandas dataframe \n",
    "# I find it easier to deal with pandas instead of spark\n",
    "df_pit_stops = spark.read.csv('s3://columbia-gr5069-main/raw/pit_stops.csv', header=True)\n",
    "df_pit_stops = df_pit_stops.toPandas()\n",
    "df_drivers = spark.read.csv('s3://columbia-gr5069-main/raw/drivers.csv', header=True)\n",
    "df_drivers = df_drivers.toPandas()\n",
    "df_races = spark.read.csv('s3://columbia-gr5069-main/raw/races.csv', header=True)\n",
    "df_races = df_races.toPandas()  \n"
   ]
  },
  {
   "cell_type": "code",
   "execution_count": 0,
   "metadata": {
    "application/vnd.databricks.v1+cell": {
     "cellMetadata": {
      "byteLimit": 2048000,
      "rowLimit": 10000
     },
     "inputWidgets": {},
     "nuid": "92cebcc8-c7bd-4b43-9b13-97865ab8e13d",
     "showTitle": false,
     "tableResultSettingsMap": {},
     "title": ""
    }
   },
   "outputs": [],
   "source": [
    "# Quick overview of pitstop dataframe\n",
    "df_pit_stops.head()"
   ]
  },
  {
   "cell_type": "code",
   "execution_count": 0,
   "metadata": {
    "application/vnd.databricks.v1+cell": {
     "cellMetadata": {
      "byteLimit": 2048000,
      "rowLimit": 10000
     },
     "inputWidgets": {},
     "nuid": "f3722459-3ff7-450e-a914-a5e27653b467",
     "showTitle": false,
     "tableResultSettingsMap": {},
     "title": ""
    }
   },
   "outputs": [],
   "source": [
    "#Running a group by function to get each driver's avg time (in miliseconds) at pit stop at each race\n",
    "avg_pit_stop_time = pd.DataFrame(df_pit_stops.groupby(['raceId', 'driverId'])['milliseconds'].mean()).reset_index()"
   ]
  },
  {
   "cell_type": "code",
   "execution_count": 0,
   "metadata": {
    "application/vnd.databricks.v1+cell": {
     "cellMetadata": {
      "byteLimit": 2048000,
      "rowLimit": 10000
     },
     "inputWidgets": {},
     "nuid": "cf016879-2834-4e91-8913-e3a30527a695",
     "showTitle": false,
     "tableResultSettingsMap": {},
     "title": ""
    }
   },
   "outputs": [],
   "source": [
    "avg_pit_stop_time.head()"
   ]
  },
  {
   "cell_type": "code",
   "execution_count": 0,
   "metadata": {
    "application/vnd.databricks.v1+cell": {
     "cellMetadata": {
      "byteLimit": 2048000,
      "rowLimit": 10000
     },
     "inputWidgets": {},
     "nuid": "bcb9db26-5491-4e10-9b6a-681e8cfb6fe7",
     "showTitle": false,
     "tableResultSettingsMap": {},
     "title": ""
    }
   },
   "outputs": [],
   "source": [
    "# Overview of driver information\n",
    "df_drivers.head()"
   ]
  },
  {
   "cell_type": "code",
   "execution_count": 0,
   "metadata": {
    "application/vnd.databricks.v1+cell": {
     "cellMetadata": {
      "byteLimit": 2048000,
      "rowLimit": 10000
     },
     "inputWidgets": {},
     "nuid": "5c03e7b7-6950-4cb4-8725-e6d4ebed5e81",
     "showTitle": false,
     "tableResultSettingsMap": {},
     "title": ""
    }
   },
   "outputs": [],
   "source": [
    "#Overview of Races\n",
    "df_races.head()"
   ]
  },
  {
   "cell_type": "code",
   "execution_count": 0,
   "metadata": {
    "application/vnd.databricks.v1+cell": {
     "cellMetadata": {
      "byteLimit": 2048000,
      "rowLimit": 10000
     },
     "inputWidgets": {},
     "nuid": "a7d0ce3d-2e04-43b5-8c1e-ab0863d17666",
     "showTitle": false,
     "tableResultSettingsMap": {},
     "title": ""
    }
   },
   "outputs": [],
   "source": [
    "#Matching on driver ID to get name of drivers on pit_stops\n",
    "avg_pit_stop_time = pd.merge(avg_pit_stop_time, df_drivers[['driverId', 'forename', 'surname']], on='driverId', how='left')\n",
    "#I add driver ID to Name, just to make it easier for me too visualize / see. no need to necessarily add it\n",
    "avg_pit_stop_time['Name + id'] = avg_pit_stop_time['forename'] + ' ' +avg_pit_stop_time['surname'] + ' ' +avg_pit_stop_time ['driverId']\n",
    "avg_pit_stop_time.drop(['forename', 'surname'], axis=1, inplace=True)\n",
    "avg_pit_stop_time.head()"
   ]
  },
  {
   "cell_type": "code",
   "execution_count": 0,
   "metadata": {
    "application/vnd.databricks.v1+cell": {
     "cellMetadata": {
      "byteLimit": 2048000,
      "rowLimit": 10000
     },
     "inputWidgets": {},
     "nuid": "94e59a60-3813-44d0-8fd9-57d02b501022",
     "showTitle": false,
     "tableResultSettingsMap": {},
     "title": ""
    }
   },
   "outputs": [],
   "source": [
    "# merging on RaceId to get each unique race \n",
    "# I use race name and date of race to make sure I am getting all races\n",
    "avg_pit_stop_time = pd.merge(avg_pit_stop_time, df_races[['raceId', 'name', 'date']], on='raceId', how='left')\n",
    "avg_pit_stop_time['Race Name + date'] = avg_pit_stop_time['name'] + ' ' + avg_pit_stop_time['date']\n",
    "avg_pit_stop_time.drop(['name','date'], axis=1, inplace=True)\n",
    "avg_pit_stop_time.head()"
   ]
  },
  {
   "cell_type": "markdown",
   "metadata": {
    "application/vnd.databricks.v1+cell": {
     "cellMetadata": {
      "byteLimit": 2048000,
      "rowLimit": 10000
     },
     "inputWidgets": {},
     "nuid": "bdbe20a8-4164-4d90-bb09-e09f76c011cc",
     "showTitle": false,
     "tableResultSettingsMap": {},
     "title": ""
    }
   },
   "source": [
    "#### 2. [20 pts] Rank the average time spent at the pit stop in order of who won each race\n"
   ]
  },
  {
   "cell_type": "code",
   "execution_count": 0,
   "metadata": {
    "application/vnd.databricks.v1+cell": {
     "cellMetadata": {
      "byteLimit": 2048000,
      "rowLimit": 10000
     },
     "inputWidgets": {},
     "nuid": "0b896c20-6f68-4468-bfe3-b2ac91557a29",
     "showTitle": false,
     "tableResultSettingsMap": {},
     "title": ""
    }
   },
   "outputs": [],
   "source": [
    "#I am getting the results dataset. \n",
    "df_results = spark.read.csv('s3://columbia-gr5069-main/raw/results.csv', header=True)\n",
    "df_results = df_results.toPandas()"
   ]
  },
  {
   "cell_type": "code",
   "execution_count": 0,
   "metadata": {
    "application/vnd.databricks.v1+cell": {
     "cellMetadata": {
      "byteLimit": 2048000,
      "rowLimit": 10000
     },
     "inputWidgets": {},
     "nuid": "b5ef3584-2309-4a79-a188-1ed23bb78158",
     "showTitle": false,
     "tableResultSettingsMap": {},
     "title": ""
    }
   },
   "outputs": [],
   "source": [
    "#Quick overview of player results per race\n",
    "df_results.head()"
   ]
  },
  {
   "cell_type": "code",
   "execution_count": 0,
   "metadata": {
    "application/vnd.databricks.v1+cell": {
     "cellMetadata": {
      "byteLimit": 2048000,
      "rowLimit": 10000
     },
     "inputWidgets": {},
     "nuid": "16fe8269-e9c6-45c6-8b4b-40c265a6fa66",
     "showTitle": false,
     "tableResultSettingsMap": {},
     "title": ""
    }
   },
   "outputs": [],
   "source": [
    "#Merging on raceId and driver Id to get points for each player\n",
    "# I use points because that way i can get all drivers, even those that did not finish the race and those that have 0 points\n",
    "# I only deal with the ones not finishing the race as part of Q5.\n",
    "avg_pit_stop_time = pd.merge(avg_pit_stop_time, df_results[['raceId', 'driverId', 'points']], on=['raceId', 'driverId'], how='left')\n",
    "avg_pit_stop_time.head()"
   ]
  },
  {
   "cell_type": "code",
   "execution_count": 0,
   "metadata": {
    "application/vnd.databricks.v1+cell": {
     "cellMetadata": {
      "byteLimit": 2048000,
      "rowLimit": 10000
     },
     "inputWidgets": {},
     "nuid": "6186bfa6-f541-4161-998d-0347bc7839fb",
     "showTitle": false,
     "tableResultSettingsMap": {},
     "title": ""
    }
   },
   "outputs": [],
   "source": [
    "#Making sure raceId and points is categorized as int so that I can sort the values by raceiD and then points\n",
    "avg_pit_stop_time.raceId = avg_pit_stop_time.raceId.astype(int)\n",
    "avg_pit_stop_time.points = avg_pit_stop_time.points.astype(int)\n",
    "avg_pit_stop_time = avg_pit_stop_time.sort_values(by=['raceId', 'points'], ascending=False)"
   ]
  },
  {
   "cell_type": "code",
   "execution_count": 0,
   "metadata": {
    "application/vnd.databricks.v1+cell": {
     "cellMetadata": {
      "byteLimit": 2048000,
      "rowLimit": 10000
     },
     "inputWidgets": {},
     "nuid": "74a2e901-55e0-4b54-91fa-a70a60bf9047",
     "showTitle": false,
     "tableResultSettingsMap": {},
     "title": ""
    }
   },
   "outputs": [],
   "source": [
    "#Now, for each race, players are ranked based on highest points to lowest points\n",
    "avg_pit_stop_time"
   ]
  },
  {
   "cell_type": "markdown",
   "metadata": {
    "application/vnd.databricks.v1+cell": {
     "cellMetadata": {
      "byteLimit": 2048000,
      "rowLimit": 10000
     },
     "inputWidgets": {},
     "nuid": "36ba8d48-fe0a-4ceb-a28a-97fefd16c099",
     "showTitle": false,
     "tableResultSettingsMap": {},
     "title": ""
    }
   },
   "source": [
    "#### 3. [20 pts] Insert the missing code (e.g: ALO for Alonso) for drivers based on the 'drivers' dataset\n"
   ]
  },
  {
   "cell_type": "code",
   "execution_count": 0,
   "metadata": {
    "application/vnd.databricks.v1+cell": {
     "cellMetadata": {
      "byteLimit": 2048000,
      "rowLimit": 10000
     },
     "inputWidgets": {},
     "nuid": "1d27b0ac-d38c-4bf6-bb95-118cc1346357",
     "showTitle": false,
     "tableResultSettingsMap": {},
     "title": ""
    }
   },
   "outputs": [],
   "source": [
    "# No codes are missing\n",
    "df_drivers['code'].isnull().sum()"
   ]
  },
  {
   "cell_type": "code",
   "execution_count": 0,
   "metadata": {
    "application/vnd.databricks.v1+cell": {
     "cellMetadata": {
      "byteLimit": 2048000,
      "rowLimit": 10000
     },
     "inputWidgets": {},
     "nuid": "9ad5b29f-6bdd-437a-83b9-47ba8832fd15",
     "showTitle": false,
     "tableResultSettingsMap": {},
     "title": ""
    }
   },
   "outputs": [],
   "source": [
    "#Matching on driver ID to get code from drivers dataset\n",
    "avg_pit_stop_time = pd.merge(avg_pit_stop_time, df_drivers[['driverId', 'code']], on='driverId', how='left')\n",
    "avg_pit_stop_time.head()"
   ]
  },
  {
   "cell_type": "markdown",
   "metadata": {
    "application/vnd.databricks.v1+cell": {
     "cellMetadata": {
      "byteLimit": 2048000,
      "rowLimit": 10000
     },
     "inputWidgets": {},
     "nuid": "aee73445-f107-45c1-a1f7-fd755e61189f",
     "showTitle": false,
     "tableResultSettingsMap": {},
     "title": ""
    }
   },
   "source": [
    "#### 4. [20 pts] Who is the youngest and oldest driver for each race? Create a new column called “Age”"
   ]
  },
  {
   "cell_type": "code",
   "execution_count": 0,
   "metadata": {
    "application/vnd.databricks.v1+cell": {
     "cellMetadata": {
      "byteLimit": 2048000,
      "rowLimit": 10000
     },
     "inputWidgets": {},
     "nuid": "e62ec9a5-5176-489b-9a77-78b7074537f9",
     "showTitle": false,
     "tableResultSettingsMap": {},
     "title": ""
    }
   },
   "outputs": [],
   "source": [
    "#getting the dob from drivers dataset by merging on driverID\n",
    "avg_pit_stop_time = pd.merge(avg_pit_stop_time, df_drivers[['driverId', 'dob']], on='driverId', how='left')"
   ]
  },
  {
   "cell_type": "code",
   "execution_count": 0,
   "metadata": {
    "application/vnd.databricks.v1+cell": {
     "cellMetadata": {
      "byteLimit": 2048000,
      "rowLimit": 10000
     },
     "inputWidgets": {},
     "nuid": "46ba9cd1-dcd2-403b-b7a0-1e85ca9628f6",
     "showTitle": false,
     "tableResultSettingsMap": {},
     "title": ""
    }
   },
   "outputs": [],
   "source": [
    "#I am stripping the date (aka last 10 characters) from 'Race Name + date' column to ge the data only. \n",
    "# I then save it as a column as a datetime object\n",
    "avg_pit_stop_time['race_date'] = pd.to_datetime(avg_pit_stop_time['Race Name + date'].str[-10:])\n",
    "avg_pit_stop_time.head()"
   ]
  },
  {
   "cell_type": "code",
   "execution_count": 0,
   "metadata": {
    "application/vnd.databricks.v1+cell": {
     "cellMetadata": {
      "byteLimit": 2048000,
      "rowLimit": 10000
     },
     "inputWidgets": {},
     "nuid": "56abd3a4-7d76-4ce0-a641-09c3dc05af70",
     "showTitle": false,
     "tableResultSettingsMap": {},
     "title": ""
    }
   },
   "outputs": [],
   "source": [
    "#I am calculating the age of each player at the time of the race, by subtraction of dob year from race year\n",
    "#I store results in 'Age at Race', then I drop the dob and race_date columns\n",
    "avg_pit_stop_time['Age at Race'] =  avg_pit_stop_time['race_date'].dt.year - pd.to_datetime(avg_pit_stop_time['dob']).dt.year \n",
    "avg_pit_stop_time.drop(['dob', 'race_date'], axis=1, inplace=True)\n",
    "avg_pit_stop_time.head()\n"
   ]
  },
  {
   "cell_type": "code",
   "execution_count": 0,
   "metadata": {
    "application/vnd.databricks.v1+cell": {
     "cellMetadata": {
      "byteLimit": 2048000,
      "rowLimit": 10000
     },
     "inputWidgets": {},
     "nuid": "5f5f05e0-96c9-4e79-aa4b-d408c3b967db",
     "showTitle": false,
     "tableResultSettingsMap": {},
     "title": ""
    }
   },
   "outputs": [],
   "source": [
    "#I find all the unique races and save it in an empty list\n",
    "#I then create an dict with only keys, values, which are in the form of list, to be populated\n",
    "all_unique_races = avg_pit_stop_time['Race Name + date'].unique()\n",
    "youngest_oldest_per_race = {'Race Name': [], 'Youngest Player Name':[],'Youngest Player Age':[], 'Oldest Player Name':[], 'Oldest Player Age': []}"
   ]
  },
  {
   "cell_type": "code",
   "execution_count": 0,
   "metadata": {
    "application/vnd.databricks.v1+cell": {
     "cellMetadata": {
      "byteLimit": 2048000,
      "rowLimit": 10000
     },
     "inputWidgets": {},
     "nuid": "52e6d017-0f57-47aa-8896-dce63e9768ac",
     "showTitle": false,
     "tableResultSettingsMap": {},
     "title": ""
    }
   },
   "outputs": [],
   "source": [
    "#This loop goes through all values in the all_unique_races list\n",
    "for race in all_unique_races:\n",
    "    # Appends each race to dictionary\n",
    "    youngest_oldest_per_race['Race Name'].append(race)\n",
    "    # Subset dataset to only look at the race we are looping on\n",
    "    unique_race_subset = avg_pit_stop_time[avg_pit_stop_time['Race Name + date']==race]\n",
    "    # Sort the new subset dataset by age\n",
    "    unique_race_subset = unique_race_subset.sort_values(by=['Age at Race'])\n",
    "    #Now, we know that first row has youngest player details and last row has oldest player details\n",
    "    # We use this to populate the empty lists in the earlier dictionaries\n",
    "    youngest_oldest_per_race['Youngest Player Name'].append(unique_race_subset.iloc[0]['Name + id'])\n",
    "    youngest_oldest_per_race['Youngest Player Age'].append(unique_race_subset.iloc[0]['Age at Race'])\n",
    "    youngest_oldest_per_race['Oldest Player Name'].append(unique_race_subset.iloc[-1]['Name + id'])\n",
    "    youngest_oldest_per_race['Oldest Player Age'].append(unique_race_subset.iloc[-1]['Age at Race'])\n"
   ]
  },
  {
   "cell_type": "code",
   "execution_count": 0,
   "metadata": {
    "application/vnd.databricks.v1+cell": {
     "cellMetadata": {
      "byteLimit": 2048000,
      "rowLimit": 10000
     },
     "inputWidgets": {},
     "nuid": "c8b397c2-ac1f-4495-b790-6a2b98457ef4",
     "showTitle": false,
     "tableResultSettingsMap": {},
     "title": ""
    }
   },
   "outputs": [],
   "source": [
    "#Converting dictionary to DF for easier interpretability\n",
    "\n",
    "youngest_oldest_per_race = pd.DataFrame(youngest_oldest_per_race)\n",
    "youngest_oldest_per_race.head()"
   ]
  },
  {
   "cell_type": "markdown",
   "metadata": {
    "application/vnd.databricks.v1+cell": {
     "cellMetadata": {
      "byteLimit": 2048000,
      "rowLimit": 10000
     },
     "inputWidgets": {},
     "nuid": "67cfe736-c251-4b4f-9c67-35a3b959e0ec",
     "showTitle": false,
     "tableResultSettingsMap": {},
     "title": ""
    }
   },
   "source": [
    "#### 5. [20 pts] For a given race, which driver has the most wins and losses?"
   ]
  },
  {
   "cell_type": "code",
   "execution_count": 0,
   "metadata": {
    "application/vnd.databricks.v1+cell": {
     "cellMetadata": {
      "byteLimit": 2048000,
      "rowLimit": 10000
     },
     "inputWidgets": {},
     "nuid": "be3b0e08-a642-4c99-ac27-131d9f4ccc37",
     "showTitle": false,
     "tableResultSettingsMap": {},
     "title": ""
    }
   },
   "outputs": [],
   "source": [
    "avg_pit_stop_time.head()"
   ]
  },
  {
   "cell_type": "code",
   "execution_count": 0,
   "metadata": {
    "application/vnd.databricks.v1+cell": {
     "cellMetadata": {
      "byteLimit": 2048000,
      "rowLimit": 10000
     },
     "inputWidgets": {},
     "nuid": "e988fea2-6f91-4061-ad31-2b32c48b3632",
     "showTitle": false,
     "tableResultSettingsMap": {},
     "title": ""
    }
   },
   "outputs": [],
   "source": [
    "# I create new columns to get # of previous races won or not one (but completed)\n",
    "avg_pit_stop_time['# of Previous Races Won (Excluding Current One)'] = [0] * len(avg_pit_stop_time)\n",
    "avg_pit_stop_time['# of Previous Not Won, But Completed Races(Excluding Current One)'] = [0] * len(avg_pit_stop_time)\n",
    "\n",
    "avg_pit_stop_time"
   ]
  },
  {
   "cell_type": "code",
   "execution_count": 0,
   "metadata": {
    "application/vnd.databricks.v1+cell": {
     "cellMetadata": {
      "byteLimit": 2048000,
      "rowLimit": 10000
     },
     "inputWidgets": {},
     "nuid": "4a1a2aab-1a0d-4486-ae0f-ecad2b383c88",
     "showTitle": false,
     "tableResultSettingsMap": {},
     "title": ""
    }
   },
   "outputs": [],
   "source": [
    "# I turn raceId and driverID columns of dataframe I am going to use to type int to make the comparisons easier\n",
    "avg_pit_stop_time['driverId'] = avg_pit_stop_time['driverId'].astype(int)\n",
    "df_results['raceId'] = df_results['raceId'].astype(int)\n",
    "df_results['driverId'] = df_results['driverId'].astype(int)"
   ]
  },
  {
   "cell_type": "code",
   "execution_count": 0,
   "metadata": {
    "application/vnd.databricks.v1+cell": {
     "cellMetadata": {
      "byteLimit": 2048000,
      "rowLimit": 10000
     },
     "inputWidgets": {},
     "nuid": "34786eae-b924-4fd9-ad13-1da6ef9825f0",
     "showTitle": false,
     "tableResultSettingsMap": {},
     "title": ""
    }
   },
   "outputs": [],
   "source": [
    "#I loop through each row in avg_pit_stop_time\n",
    "for index, row in avg_pit_stop_time.iterrows():\n",
    "    #I store the raceId and driverId\n",
    "    raceId = row['raceId']\n",
    "    driverId = row['driverId']\n",
    "    #I then subset the results dataset to only get raceIds less than the current raceId for the specific driver\n",
    "    # I do this b/c i know the lower raceId, means it happened before and we want to know about previous races excluding current one\n",
    "    subset = df_results[(df_results['raceId'] < raceId) & (df_results['driverId'] == driverId)]\n",
    "    #I then get a count of the subset data where position is 1, meaning they wone\n",
    "    won_races = len(subset[subset['position']=='1'])\n",
    "    # I also get a count where position is not 1 and time is not equal to \\\\N(meaning not completed)\n",
    "    not_won_races = len(subset[(subset['position'] != '1') & (subset['time'] != '\\\\N')])\n",
    "    #I then put these results in the new columns created for avg_pit_stop_time\n",
    "    avg_pit_stop_time.loc[index, '# of Previous Races Won (Excluding Current One)'] = won_races\n",
    "    avg_pit_stop_time.loc[index, '# of Previous Not Won, But Completed Races(Excluding Current One)'] = not_won_races\n",
    "\n",
    "\n",
    "avg_pit_stop_time.head()"
   ]
  },
  {
   "cell_type": "markdown",
   "metadata": {
    "application/vnd.databricks.v1+cell": {
     "cellMetadata": {
      "byteLimit": 2048000,
      "rowLimit": 10000
     },
     "inputWidgets": {},
     "nuid": "7ff81e3e-9138-4671-a37d-f8b14c0d7ec3",
     "showTitle": false,
     "tableResultSettingsMap": {},
     "title": ""
    }
   },
   "source": [
    "#### 6. [10 pts] How has the nationalities of drivers participating in F1 races changed since the year 2000? Create a dataframe showing count of each nationality by year. "
   ]
  },
  {
   "cell_type": "code",
   "execution_count": 0,
   "metadata": {
    "application/vnd.databricks.v1+cell": {
     "cellMetadata": {
      "byteLimit": 2048000,
      "rowLimit": 10000
     },
     "inputWidgets": {},
     "nuid": "9d29097e-bcc5-4d93-8b8f-e305d276b59f",
     "showTitle": false,
     "tableResultSettingsMap": {},
     "title": ""
    }
   },
   "outputs": [],
   "source": [
    "#I first merge df_results with df_races on raceId for to get the year of each race.\n",
    "#I decided to use df_results since it has both raceId and driver ID, df_results only has raceId, no driverId\n",
    "df_races['raceId'] = df_races['raceId'].astype(int)\n",
    "nationalities = pd.merge(df_results, df_races[['raceId', 'year']], on='raceId', how='left')\n",
    "nationalities.head()"
   ]
  },
  {
   "cell_type": "code",
   "execution_count": 0,
   "metadata": {
    "application/vnd.databricks.v1+cell": {
     "cellMetadata": {
      "byteLimit": 2048000,
      "rowLimit": 10000
     },
     "inputWidgets": {},
     "nuid": "d2ecd3cf-6f20-4803-b004-a2319e6b666d",
     "showTitle": false,
     "tableResultSettingsMap": {},
     "title": ""
    }
   },
   "outputs": [],
   "source": [
    "#For my purposes, i simplify the dataset by only keeping raceId, driverId, and year\n",
    "# I change year to an int to make slicing easier (2000 and above)\n",
    "nationalities = nationalities[['raceId','driverId', 'year']]\n",
    "nationalities['year'] = nationalities['year'].astype(int)\n",
    "nationalities = nationalities[nationalities['year']>=2000]\n",
    "nationalities"
   ]
  },
  {
   "cell_type": "code",
   "execution_count": 0,
   "metadata": {
    "application/vnd.databricks.v1+cell": {
     "cellMetadata": {
      "byteLimit": 2048000,
      "rowLimit": 10000
     },
     "inputWidgets": {},
     "nuid": "0e051401-4a59-4353-a7a8-f0633867ff7e",
     "showTitle": false,
     "tableResultSettingsMap": {},
     "title": ""
    }
   },
   "outputs": [],
   "source": [
    "#I then short the values by year, just to make sure they are in order\n",
    "nationalities.sort_values(by=['year'], inplace=True)"
   ]
  },
  {
   "cell_type": "code",
   "execution_count": 0,
   "metadata": {
    "application/vnd.databricks.v1+cell": {
     "cellMetadata": {
      "byteLimit": 2048000,
      "rowLimit": 10000
     },
     "inputWidgets": {},
     "nuid": "95baad3b-4fbd-4b78-bd0f-ce3167a2103c",
     "showTitle": false,
     "tableResultSettingsMap": {},
     "title": ""
    }
   },
   "outputs": [],
   "source": [
    "#I then merge data with drivers dataset to get nationality and forename(not necessary, but I like to have it) of each driver\n",
    "df_drivers['driverId'] = df_drivers['driverId'].astype(int)\n",
    "nationalities = pd.merge(nationalities, df_drivers[['driverId', 'forename', 'nationality']], on='driverId', how='left')\n",
    "nationalities"
   ]
  },
  {
   "cell_type": "code",
   "execution_count": 0,
   "metadata": {
    "application/vnd.databricks.v1+cell": {
     "cellMetadata": {
      "byteLimit": 2048000,
      "rowLimit": 10000
     },
     "inputWidgets": {},
     "nuid": "9cd91806-074f-4c05-90e4-7d8489737c6a",
     "showTitle": false,
     "tableResultSettingsMap": {},
     "title": ""
    }
   },
   "outputs": [],
   "source": [
    "#Right now, there are multiple duplicate rows. Essentially, for each year, the same player might show up 3 times because they played in multiple races\n",
    "#I first drop raceId, since we only needed it to get the year\n",
    "# I then drop all duplicates, ensuring that one driver is only counted once per year (dropping all its duplicates in the same year)\n",
    "nationalities = nationalities[['driverId', 'year', 'forename', 'nationality']]\n",
    "nationalities = nationalities.drop_duplicates()\n",
    "nationalities"
   ]
  },
  {
   "cell_type": "code",
   "execution_count": 0,
   "metadata": {
    "application/vnd.databricks.v1+cell": {
     "cellMetadata": {
      "byteLimit": 2048000,
      "rowLimit": 10000
     },
     "inputWidgets": {},
     "nuid": "b968f519-0367-47e2-ac41-e42138695368",
     "showTitle": false,
     "tableResultSettingsMap": {},
     "title": ""
    }
   },
   "outputs": [],
   "source": [
    "#Then, I create an empty dataframe\n",
    "change_in_nationalities = pd.DataFrame()"
   ]
  },
  {
   "cell_type": "code",
   "execution_count": 0,
   "metadata": {
    "application/vnd.databricks.v1+cell": {
     "cellMetadata": {
      "byteLimit": 2048000,
      "rowLimit": 10000
     },
     "inputWidgets": {},
     "nuid": "f1244300-6061-41cc-97eb-123d068e9610",
     "showTitle": false,
     "tableResultSettingsMap": {},
     "title": ""
    }
   },
   "outputs": [],
   "source": [
    "# Right now, I have a dataframe with one row per each participating driver for each year and their associated nationality. I want one row per year, with count of each nationality\n",
    "for year in nationalities['year'].unique():\n",
    "    #So i loop through all unique years in the dataframe and slice the dataframe to only include the year I am looping on\n",
    "    #I then run value counts on 'nationality' to get a count of the nationality. i convert the value count to a dataframe\n",
    "    #I transpose the dataframe so that each nationality is a column instead of a row\n",
    "    nationalities_in_year = pd.DataFrame(nationalities[nationalities['year']==year]['nationality'].value_counts()).transpose()\n",
    "    #I then add the year I am looping on to the dataframe and reset the index\n",
    "    nationalities_in_year.insert(loc = 0, column = 'year', value = year)    \n",
    "    nationalities_in_year.reset_index(drop=True, inplace=True)\n",
    "    #Finally I concatenate the new dataframe with the previous one empty one I created. This ensures that the result from each year I am looping on is added to the empty df\n",
    "    change_in_nationalities = pd.concat([change_in_nationalities, nationalities_in_year], axis=0)"
   ]
  },
  {
   "cell_type": "code",
   "execution_count": 0,
   "metadata": {
    "application/vnd.databricks.v1+cell": {
     "cellMetadata": {
      "byteLimit": 2048000,
      "rowLimit": 10000
     },
     "inputWidgets": {},
     "nuid": "7840ef54-9696-450a-84ca-43f0ab648d76",
     "showTitle": false,
     "tableResultSettingsMap": {},
     "title": ""
    }
   },
   "outputs": [],
   "source": [
    "change_in_nationalities"
   ]
  },
  {
   "cell_type": "code",
   "execution_count": 0,
   "metadata": {
    "application/vnd.databricks.v1+cell": {
     "cellMetadata": {
      "byteLimit": 2048000,
      "rowLimit": 10000
     },
     "inputWidgets": {},
     "nuid": "0e414313-6225-41b3-88f0-aa8d53b290c4",
     "showTitle": false,
     "tableResultSettingsMap": {},
     "title": ""
    }
   },
   "outputs": [],
   "source": [
    "# I can see that there are some NaNs. I convert them to 0s for better interpretability\n",
    "#I know that fillna returns float, so I turn entire df astype int\n",
    "change_in_nationalities = change_in_nationalities.fillna(0)\n",
    "change_in_nationalities = change_in_nationalities.astype(int)\n",
    "change_in_nationalities"
   ]
  },
  {
   "cell_type": "code",
   "execution_count": 0,
   "metadata": {
    "application/vnd.databricks.v1+cell": {
     "cellMetadata": {
      "byteLimit": 2048000,
      "rowLimit": 10000
     },
     "inputWidgets": {},
     "nuid": "bdc5dd82-51e9-46d6-88fa-d9523590d7cd",
     "showTitle": false,
     "tableResultSettingsMap": {},
     "title": ""
    }
   },
   "outputs": [],
   "source": []
  }
 ],
 "metadata": {
  "application/vnd.databricks.v1+notebook": {
   "computePreferences": null,
   "dashboards": [],
   "environmentMetadata": {
    "base_environment": "",
    "environment_version": "2"
   },
   "language": "python",
   "notebookMetadata": {
    "pythonIndentUnit": 4
   },
   "notebookName": "(Clone) Homework 2 Final Copy",
   "widgets": {}
  },
  "language_info": {
   "name": "python"
  }
 },
 "nbformat": 4,
 "nbformat_minor": 0
}
